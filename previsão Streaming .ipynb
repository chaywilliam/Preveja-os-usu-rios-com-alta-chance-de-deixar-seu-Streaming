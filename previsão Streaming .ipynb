{
  "nbformat": 4,
  "nbformat_minor": 0,
  "metadata": {
    "colab": {
      "private_outputs": true,
      "provenance": []
    },
    "kernelspec": {
      "name": "python3",
      "display_name": "Python 3"
    },
    "language_info": {
      "name": "python"
    }
  },
  "cells": [
    {
      "cell_type": "markdown",
      "source": [
        "**Análise Exploratória dos Dados (Data Understanding)**"
      ],
      "metadata": {
        "id": "_qiwuW1RXPA7"
      }
    },
    {
      "cell_type": "code",
      "execution_count": null,
      "metadata": {
        "id": "-q3cQ3dhWxfP"
      },
      "outputs": [],
      "source": [
        "import pandas as pd\n",
        "df = pd.read_csv('/content/streaming_data.csv')\n",
        "print(df.head())\n"
      ]
    },
    {
      "cell_type": "code",
      "source": [
        "print(df.describe())"
      ],
      "metadata": {
        "id": "1qXjbjRYXb_q"
      },
      "execution_count": null,
      "outputs": []
    },
    {
      "cell_type": "code",
      "source": [
        "print(df.info())"
      ],
      "metadata": {
        "id": "gkI8SO0FXgtR"
      },
      "execution_count": null,
      "outputs": []
    },
    {
      "cell_type": "code",
      "source": [
        "print(df.isna().sum())"
      ],
      "metadata": {
        "id": "fXMYMEWsXpFq"
      },
      "execution_count": null,
      "outputs": []
    },
    {
      "cell_type": "markdown",
      "source": [
        "**Tratamento dos Dados (Data Preparation)**"
      ],
      "metadata": {
        "id": "tMxp3X0WX48h"
      }
    },
    {
      "cell_type": "code",
      "source": [
        "# Substituir NaN por 0\n",
        "df['Subscription_type'].fillna(0, inplace=True)\n",
        "df['Num_streaming_services'].fillna(0, inplace=True)\n",
        "df['Churned'].fillna(0, inplace=True)\n",
        "df['Avg_rating'].fillna(0, inplace=True)\n",
        "df['Devices_connected'].fillna(0, inplace=True)"
      ],
      "metadata": {
        "id": "Gg3pg1KhXzBw"
      },
      "execution_count": null,
      "outputs": []
    },
    {
      "cell_type": "code",
      "source": [
        "# Remover linhas nulas\n",
        "df.dropna(subset=['Gender', 'Subscription_type', 'Age'], inplace=True)"
      ],
      "metadata": {
        "id": "l9KrdyRTYR4P"
      },
      "execution_count": null,
      "outputs": []
    },
    {
      "cell_type": "code",
      "source": [
        "# Conversão de Churned\n",
        "df['Churned'] = df['Churned'].replace({0: 'No', 1: 'Yes'})"
      ],
      "metadata": {
        "id": "u3GxQzJ3YZwQ"
      },
      "execution_count": null,
      "outputs": []
    },
    {
      "source": [
        "# Crie um dicionário de mapeamento para os tipos de assinatura\n",
        "subscription_mapping = {'Basic': 1, 'Standard': 2, 'Premium': 3}\n",
        "\n",
        "# Substitua os valores da coluna 'Subscription_type' usando o mapeamento\n",
        "df['Subscription_type'] = df['Subscription_type'].map(subscription_mapping)\n",
        "\n",
        "# Preencha os valores NaN na coluna 'Subscription_type' com 0\n",
        "df['Subscription_type'].fillna(0, inplace=True)\n",
        "\n",
        "# Converta a coluna 'Subscription_type' para inteiro\n",
        "df = df.astype({'Subscription_type': 'int', 'Num_streaming_services': 'int'})"
      ],
      "cell_type": "code",
      "metadata": {
        "id": "NMXMDuL0aAy_"
      },
      "execution_count": null,
      "outputs": []
    },
    {
      "cell_type": "markdown",
      "source": [
        "**Modelagem - Regressão Logística**"
      ],
      "metadata": {
        "id": "ijyg4BbuaWDb"
      }
    },
    {
      "cell_type": "code",
      "source": [
        "from sklearn.model_selection import train_test_split\n",
        "from sklearn.preprocessing import LabelEncoder, MinMaxScaler\n",
        "from sklearn.linear_model import LogisticRegression\n",
        "from sklearn.metrics import ConfusionMatrixDisplay\n"
      ],
      "metadata": {
        "id": "EC26uGjPaN6v"
      },
      "execution_count": null,
      "outputs": []
    },
    {
      "cell_type": "code",
      "source": [
        "# Definir X e y\n",
        "X = df.drop(columns=['User_id', 'Churned'])\n",
        "y = df['Churned']\n"
      ],
      "metadata": {
        "id": "FD7aJyAvaeKW"
      },
      "execution_count": null,
      "outputs": []
    },
    {
      "cell_type": "code",
      "source": [
        "# Codificar variáveis categóricas\n",
        "X = pd.get_dummies(X, drop_first=True)\n",
        "le = LabelEncoder()\n",
        "y = le.fit_transform(y)"
      ],
      "metadata": {
        "id": "VJ95b5zgat7_"
      },
      "execution_count": null,
      "outputs": []
    },
    {
      "cell_type": "code",
      "source": [
        "# Dividir em treino e teste\n",
        "X_train, X_test, y_train, y_test = train_test_split(X, y, test_size=0.3, random_state=42)"
      ],
      "metadata": {
        "id": "EzgobrXja0EX"
      },
      "execution_count": null,
      "outputs": []
    },
    {
      "cell_type": "code",
      "source": [
        "# Escalonamento\n",
        "scaler = MinMaxScaler()\n",
        "X_train = scaler.fit_transform(X_train)\n",
        "X_test = scaler.transform(X_test)"
      ],
      "metadata": {
        "id": "3XFOwxKOa4jX"
      },
      "execution_count": null,
      "outputs": []
    },
    {
      "source": [
        "# Verifique se há valores infinitos em X_train\n",
        "!pip install numpy\n",
        "import numpy as np\n",
        "\n",
        "# Verifique se há inf e -inf e substitua por NaN\n",
        "X_train = np.nan_to_num(X_train, nan=np.nan, posinf=np.nan, neginf=np.nan)\n",
        "\n",
        "# Impute NaNs usando SimpleImputer\n",
        "from sklearn.impute import SimpleImputer\n",
        "imputer = SimpleImputer(strategy='mean') # Você pode escolher uma estratégia diferente\n",
        "X_train = imputer.fit_transform(X_train)"
      ],
      "cell_type": "code",
      "metadata": {
        "id": "_niN2Zm9baO_"
      },
      "execution_count": null,
      "outputs": []
    },
    {
      "source": [
        "# Use HistGradientBoostingClassifier\n",
        "!pip install scikit-learn\n",
        "from sklearn.ensemble import HistGradientBoostingClassifier\n",
        "model = HistGradientBoostingClassifier()\n",
        "model.fit(X_train, y_train)"
      ],
      "cell_type": "code",
      "metadata": {
        "id": "cAIYQzPYbgbQ"
      },
      "execution_count": null,
      "outputs": []
    },
    {
      "cell_type": "code",
      "source": [
        "# Regressão Logística\n",
        "model = LogisticRegression()\n",
        "model.fit(X_train, y_train)\n"
      ],
      "metadata": {
        "id": "v8SvooTvbmFu"
      },
      "execution_count": null,
      "outputs": []
    },
    {
      "source": [
        "# Verifique se há valores infinitos em X_test\n",
        "# Verifique se há inf e -inf e substitua por NaN\n",
        "X_test = np.nan_to_num(X_test, nan=np.nan, posinf=np.nan, neginf=np.nan)\n",
        "\n",
        "# Impute NaNs usando SimpleImputer\n",
        "from sklearn.impute import SimpleImputer\n",
        "imputer = SimpleImputer(strategy='mean') # You can choose a different strategy\n",
        "X_test = imputer.fit_transform(X_test)\n",
        "\n",
        "# Regressão Logística\n",
        "from sklearn.linear_model import LogisticRegression\n",
        "model = LogisticRegression()\n",
        "model.fit(X_train, y_train)\n"
      ],
      "cell_type": "code",
      "metadata": {
        "id": "QHrNa3lJbz6u"
      },
      "execution_count": null,
      "outputs": []
    },
    {
      "cell_type": "code",
      "source": [
        "# Previsões\n",
        "y_pred = model.predict(X_test)"
      ],
      "metadata": {
        "id": "64Q5iOqCcJVm"
      },
      "execution_count": null,
      "outputs": []
    },
    {
      "cell_type": "code",
      "source": [
        "# Matriz de confusão\n",
        "ConfusionMatrixDisplay.from_predictions(y_test, y_pred)"
      ],
      "metadata": {
        "id": "rs4aIIuFb41I"
      },
      "execution_count": null,
      "outputs": []
    },
    {
      "cell_type": "markdown",
      "source": [
        "**Tunning**"
      ],
      "metadata": {
        "id": "RkWCYdrhcVp4"
      }
    },
    {
      "cell_type": "code",
      "source": [
        "from sklearn.ensemble import RandomForestClassifier\n",
        "from sklearn.model_selection import GridSearchCV\n",
        "from sklearn.metrics import ConfusionMatrixDisplay\n",
        "\n",
        "# Definir os hiperparâmetros que queremos testar\n",
        "param_grid = {\n",
        "    'n_estimators': [100, 200, 300],  # número de árvores\n",
        "    'max_depth': [None, 10, 20, 30 ],  # profundidade máxima das árvores\n",
        "    'min_samples_split': [2, 5, 10],  # mínimo de amostras para dividir um nó\n",
        "    'min_samples_leaf': [1, 2, 4]     # mínimo de amostras em uma folha\n",
        "}\n"
      ],
      "metadata": {
        "id": "Q3WLMXyPcN81"
      },
      "execution_count": null,
      "outputs": []
    },
    {
      "cell_type": "code",
      "source": [
        "# Inicializar o modelo RandomForest\n",
        "rf_model = RandomForestClassifier(random_state=42)"
      ],
      "metadata": {
        "id": "7s4Sw1nXhKh-"
      },
      "execution_count": null,
      "outputs": []
    },
    {
      "cell_type": "code",
      "source": [
        "# Inicializar o GridSearchCV com 5 folds na validação cruzada\n",
        "grid_search = GridSearchCV(estimator=rf_model, param_grid=param_grid, cv=5, scoring='accuracy')\n"
      ],
      "metadata": {
        "id": "pSGmxUwEhWiT"
      },
      "execution_count": null,
      "outputs": []
    },
    {
      "source": [
        "# Converter X_train para um DataFrame pandas (se ainda não for)\n",
        "X_train = pd.DataFrame(X_train)\n",
        "\n",
        "# Remover linhas com valores NaN\n",
        "X_train.dropna(inplace=True)\n",
        "\n",
        "# Converter X_train de volta para um array numpy (se necessário)\n",
        "X_train = X_train.values"
      ],
      "cell_type": "code",
      "metadata": {
        "id": "uqTZJrlDjqXT"
      },
      "execution_count": null,
      "outputs": []
    },
    {
      "source": [
        "from sklearn.impute import SimpleImputer\n",
        "\n",
        "# Inicializar o imputer com a estratégia desejada (média, mediana ou moda)\n",
        "imputer = SimpleImputer(strategy='mean')\n",
        "\n",
        "# Ajustar o imputer aos dados de treino e transformar X_train\n",
        "X_train = imputer.fit_transform(X_train)"
      ],
      "cell_type": "code",
      "metadata": {
        "id": "eBkJmI4RjekD"
      },
      "execution_count": null,
      "outputs": []
    },
    {
      "cell_type": "code",
      "source": [
        "# Ajustar (fit) o GridSearch nos dados de treino\n",
        "grid_search.fit(X_train, y_train)"
      ],
      "metadata": {
        "id": "91EWCzZJkPIS"
      },
      "execution_count": null,
      "outputs": []
    },
    {
      "cell_type": "code",
      "source": [
        "# Obter os melhores parâmetros encontrados\n",
        "best_params = grid_search.best_estimator_.get_params()\n",
        "print(\"Melhores Parâmetros Encontrados:\", best_params)\n"
      ],
      "metadata": {
        "id": "Wa652H8ghk8d"
      },
      "execution_count": null,
      "outputs": []
    },
    {
      "cell_type": "code",
      "source": [
        "# Fazer previsões com o melhor modelo\n",
        "y_pred = grid_search.predict(X_test)"
      ],
      "metadata": {
        "id": "Qo2AHVYohp-r"
      },
      "execution_count": null,
      "outputs": []
    },
    {
      "cell_type": "code",
      "source": [
        "# Plotar a matriz de confusão\n",
        "ConfusionMatrixDisplay.from_predictions(y_test, y_pred)\n"
      ],
      "metadata": {
        "id": "FvOLx5EWh1Wr"
      },
      "execution_count": null,
      "outputs": []
    },
    {
      "cell_type": "markdown",
      "source": [
        "**Modelagem - Random Forest**"
      ],
      "metadata": {
        "id": "SnCIBxtvctkF"
      }
    },
    {
      "cell_type": "code",
      "source": [
        "# Codificar variáveis categóricas com get_dummies\n",
        "X = pd.get_dummies(X, drop_first=True)  # One-hot encoding\n"
      ],
      "metadata": {
        "id": "yh67SA7ecchm"
      },
      "execution_count": null,
      "outputs": []
    },
    {
      "cell_type": "code",
      "source": [
        "# Codificar a variável target (churned) com LabelEncoder\n",
        "le = LabelEncoder()\n",
        "y = le.fit_transform(y)  # Transforma 'Yes'/'No' em 1 e 0\n"
      ],
      "metadata": {
        "id": "z3XGcgGJc1PN"
      },
      "execution_count": null,
      "outputs": []
    },
    {
      "cell_type": "code",
      "source": [
        "# Dividir o dataset em treino e teste (70% treino, 30% teste)\n",
        "X_train, X_test, y_train, y_test = train_test_split(X, y, test_size=0.3, random_state=42)"
      ],
      "metadata": {
        "id": "KLRbwxWciLee"
      },
      "execution_count": null,
      "outputs": []
    },
    {
      "cell_type": "code",
      "source": [
        "# Normalização das variáveis com MinMaxScaler\n",
        "X_train = scaler.fit_transform(X_train)\n",
        "X_test = scaler.transform(X_test)"
      ],
      "metadata": {
        "id": "3xbiiRvciOik"
      },
      "execution_count": null,
      "outputs": []
    },
    {
      "cell_type": "code",
      "source": [
        "# Criar e treinar o modelo de Random Forest\n",
        "rf_model = RandomForestClassifier(n_estimators=100, random_state=42)\n",
        "rf_model.fit(X_train, y_train)"
      ],
      "metadata": {
        "id": "AnQkGBKKiRtA"
      },
      "execution_count": null,
      "outputs": []
    },
    {
      "cell_type": "code",
      "source": [
        "# Fazer previsões nos dados de teste\n",
        "y_pred = rf_model.predict(X_test)"
      ],
      "metadata": {
        "id": "v07GjBjZibSL"
      },
      "execution_count": null,
      "outputs": []
    },
    {
      "cell_type": "code",
      "source": [
        "# Plotar a matriz de confusão\n",
        "ConfusionMatrixDisplay.from_predictions(y_test, y_pred)\n"
      ],
      "metadata": {
        "id": "rkOmG802ihli"
      },
      "execution_count": null,
      "outputs": []
    }
  ]
}
